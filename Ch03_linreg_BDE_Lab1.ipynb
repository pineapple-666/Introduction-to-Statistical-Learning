{
  "cells": [
    {
      "cell_type": "markdown",
      "metadata": {
        "id": "view-in-github",
        "colab_type": "text"
      },
      "source": [
        "<a href=\"https://colab.research.google.com/github/pineapple-666/Introduction-to-Statistical-Learning/blob/main/Ch03_linreg_BDE_Lab1.ipynb\" target=\"_parent\"><img src=\"https://colab.research.google.com/assets/colab-badge.svg\" alt=\"Open In Colab\"/></a>"
      ]
    },
    {
      "cell_type": "markdown",
      "metadata": {
        "id": "WsKq5wi-ZuqU"
      },
      "source": [
        "# Setup\n",
        "\n",
        "Import packages and data needed to complete lab"
      ]
    },
    {
      "cell_type": "code",
      "execution_count": null,
      "metadata": {
        "colab": {
          "base_uri": "https://localhost:8080/"
        },
        "id": "G3ctPLg7Zvwa",
        "outputId": "6af28aa6-9b67-4474-a2bf-5404e45b53b6"
      },
      "outputs": [
        {
          "output_type": "stream",
          "name": "stdout",
          "text": [
            "Collecting ISLP\n",
            "  Downloading ISLP-0.4.0-py3-none-any.whl.metadata (7.0 kB)\n",
            "Requirement already satisfied: numpy>=1.7.1 in /usr/local/lib/python3.12/dist-packages (from ISLP) (2.0.2)\n",
            "Requirement already satisfied: scipy>=0.9 in /usr/local/lib/python3.12/dist-packages (from ISLP) (1.16.2)\n",
            "Requirement already satisfied: pandas>=0.20 in /usr/local/lib/python3.12/dist-packages (from ISLP) (2.2.2)\n",
            "Requirement already satisfied: lxml in /usr/local/lib/python3.12/dist-packages (from ISLP) (5.4.0)\n",
            "Requirement already satisfied: scikit-learn>=1.2 in /usr/local/lib/python3.12/dist-packages (from ISLP) (1.6.1)\n",
            "Requirement already satisfied: joblib in /usr/local/lib/python3.12/dist-packages (from ISLP) (1.5.2)\n",
            "Requirement already satisfied: statsmodels>=0.13 in /usr/local/lib/python3.12/dist-packages (from ISLP) (0.14.5)\n",
            "Collecting lifelines (from ISLP)\n",
            "  Downloading lifelines-0.30.0-py3-none-any.whl.metadata (3.2 kB)\n",
            "Collecting pygam (from ISLP)\n",
            "  Downloading pygam-0.10.1-py3-none-any.whl.metadata (9.7 kB)\n",
            "Requirement already satisfied: torch in /usr/local/lib/python3.12/dist-packages (from ISLP) (2.8.0+cu126)\n",
            "Collecting pytorch-lightning (from ISLP)\n",
            "  Downloading pytorch_lightning-2.5.5-py3-none-any.whl.metadata (20 kB)\n",
            "Collecting torchmetrics (from ISLP)\n",
            "  Downloading torchmetrics-1.8.2-py3-none-any.whl.metadata (22 kB)\n",
            "Requirement already satisfied: python-dateutil>=2.8.2 in /usr/local/lib/python3.12/dist-packages (from pandas>=0.20->ISLP) (2.9.0.post0)\n",
            "Requirement already satisfied: pytz>=2020.1 in /usr/local/lib/python3.12/dist-packages (from pandas>=0.20->ISLP) (2025.2)\n",
            "Requirement already satisfied: tzdata>=2022.7 in /usr/local/lib/python3.12/dist-packages (from pandas>=0.20->ISLP) (2025.2)\n",
            "Requirement already satisfied: threadpoolctl>=3.1.0 in /usr/local/lib/python3.12/dist-packages (from scikit-learn>=1.2->ISLP) (3.6.0)\n",
            "Requirement already satisfied: patsy>=0.5.6 in /usr/local/lib/python3.12/dist-packages (from statsmodels>=0.13->ISLP) (1.0.1)\n",
            "Requirement already satisfied: packaging>=21.3 in /usr/local/lib/python3.12/dist-packages (from statsmodels>=0.13->ISLP) (25.0)\n",
            "Requirement already satisfied: matplotlib>=3.0 in /usr/local/lib/python3.12/dist-packages (from lifelines->ISLP) (3.10.0)\n",
            "Requirement already satisfied: autograd>=1.5 in /usr/local/lib/python3.12/dist-packages (from lifelines->ISLP) (1.8.0)\n",
            "Collecting autograd-gamma>=0.3 (from lifelines->ISLP)\n",
            "  Downloading autograd-gamma-0.5.0.tar.gz (4.0 kB)\n",
            "  Preparing metadata (setup.py) ... \u001b[?25l\u001b[?25hdone\n",
            "Collecting formulaic>=0.2.2 (from lifelines->ISLP)\n",
            "  Downloading formulaic-1.2.1-py3-none-any.whl.metadata (7.0 kB)\n",
            "Requirement already satisfied: progressbar2<5,>=4.2.0 in /usr/local/lib/python3.12/dist-packages (from pygam->ISLP) (4.5.0)\n",
            "Requirement already satisfied: tqdm>=4.57.0 in /usr/local/lib/python3.12/dist-packages (from pytorch-lightning->ISLP) (4.67.1)\n",
            "Requirement already satisfied: PyYAML>5.4 in /usr/local/lib/python3.12/dist-packages (from pytorch-lightning->ISLP) (6.0.2)\n",
            "Requirement already satisfied: fsspec>=2022.5.0 in /usr/local/lib/python3.12/dist-packages (from fsspec[http]>=2022.5.0->pytorch-lightning->ISLP) (2025.3.0)\n",
            "Requirement already satisfied: typing-extensions>4.5.0 in /usr/local/lib/python3.12/dist-packages (from pytorch-lightning->ISLP) (4.15.0)\n",
            "Collecting lightning-utilities>=0.10.0 (from pytorch-lightning->ISLP)\n",
            "  Downloading lightning_utilities-0.15.2-py3-none-any.whl.metadata (5.7 kB)\n",
            "Requirement already satisfied: filelock in /usr/local/lib/python3.12/dist-packages (from torch->ISLP) (3.19.1)\n",
            "Requirement already satisfied: setuptools in /usr/local/lib/python3.12/dist-packages (from torch->ISLP) (75.2.0)\n",
            "Requirement already satisfied: sympy>=1.13.3 in /usr/local/lib/python3.12/dist-packages (from torch->ISLP) (1.13.3)\n",
            "Requirement already satisfied: networkx in /usr/local/lib/python3.12/dist-packages (from torch->ISLP) (3.5)\n",
            "Requirement already satisfied: jinja2 in /usr/local/lib/python3.12/dist-packages (from torch->ISLP) (3.1.6)\n",
            "Requirement already satisfied: nvidia-cuda-nvrtc-cu12==12.6.77 in /usr/local/lib/python3.12/dist-packages (from torch->ISLP) (12.6.77)\n",
            "Requirement already satisfied: nvidia-cuda-runtime-cu12==12.6.77 in /usr/local/lib/python3.12/dist-packages (from torch->ISLP) (12.6.77)\n",
            "Requirement already satisfied: nvidia-cuda-cupti-cu12==12.6.80 in /usr/local/lib/python3.12/dist-packages (from torch->ISLP) (12.6.80)\n",
            "Requirement already satisfied: nvidia-cudnn-cu12==9.10.2.21 in /usr/local/lib/python3.12/dist-packages (from torch->ISLP) (9.10.2.21)\n",
            "Requirement already satisfied: nvidia-cublas-cu12==12.6.4.1 in /usr/local/lib/python3.12/dist-packages (from torch->ISLP) (12.6.4.1)\n",
            "Requirement already satisfied: nvidia-cufft-cu12==11.3.0.4 in /usr/local/lib/python3.12/dist-packages (from torch->ISLP) (11.3.0.4)\n",
            "Requirement already satisfied: nvidia-curand-cu12==10.3.7.77 in /usr/local/lib/python3.12/dist-packages (from torch->ISLP) (10.3.7.77)\n",
            "Requirement already satisfied: nvidia-cusolver-cu12==11.7.1.2 in /usr/local/lib/python3.12/dist-packages (from torch->ISLP) (11.7.1.2)\n",
            "Requirement already satisfied: nvidia-cusparse-cu12==12.5.4.2 in /usr/local/lib/python3.12/dist-packages (from torch->ISLP) (12.5.4.2)\n",
            "Requirement already satisfied: nvidia-cusparselt-cu12==0.7.1 in /usr/local/lib/python3.12/dist-packages (from torch->ISLP) (0.7.1)\n",
            "Requirement already satisfied: nvidia-nccl-cu12==2.27.3 in /usr/local/lib/python3.12/dist-packages (from torch->ISLP) (2.27.3)\n",
            "Requirement already satisfied: nvidia-nvtx-cu12==12.6.77 in /usr/local/lib/python3.12/dist-packages (from torch->ISLP) (12.6.77)\n",
            "Requirement already satisfied: nvidia-nvjitlink-cu12==12.6.85 in /usr/local/lib/python3.12/dist-packages (from torch->ISLP) (12.6.85)\n",
            "Requirement already satisfied: nvidia-cufile-cu12==1.11.1.6 in /usr/local/lib/python3.12/dist-packages (from torch->ISLP) (1.11.1.6)\n",
            "Requirement already satisfied: triton==3.4.0 in /usr/local/lib/python3.12/dist-packages (from torch->ISLP) (3.4.0)\n",
            "Collecting interface-meta>=1.2.0 (from formulaic>=0.2.2->lifelines->ISLP)\n",
            "  Downloading interface_meta-1.3.0-py3-none-any.whl.metadata (6.7 kB)\n",
            "Requirement already satisfied: narwhals>=1.17 in /usr/local/lib/python3.12/dist-packages (from formulaic>=0.2.2->lifelines->ISLP) (2.5.0)\n",
            "Requirement already satisfied: wrapt>=1.0 in /usr/local/lib/python3.12/dist-packages (from formulaic>=0.2.2->lifelines->ISLP) (1.17.3)\n",
            "Requirement already satisfied: aiohttp!=4.0.0a0,!=4.0.0a1 in /usr/local/lib/python3.12/dist-packages (from fsspec[http]>=2022.5.0->pytorch-lightning->ISLP) (3.12.15)\n",
            "Requirement already satisfied: contourpy>=1.0.1 in /usr/local/lib/python3.12/dist-packages (from matplotlib>=3.0->lifelines->ISLP) (1.3.3)\n",
            "Requirement already satisfied: cycler>=0.10 in /usr/local/lib/python3.12/dist-packages (from matplotlib>=3.0->lifelines->ISLP) (0.12.1)\n",
            "Requirement already satisfied: fonttools>=4.22.0 in /usr/local/lib/python3.12/dist-packages (from matplotlib>=3.0->lifelines->ISLP) (4.60.0)\n",
            "Requirement already satisfied: kiwisolver>=1.3.1 in /usr/local/lib/python3.12/dist-packages (from matplotlib>=3.0->lifelines->ISLP) (1.4.9)\n",
            "Requirement already satisfied: pillow>=8 in /usr/local/lib/python3.12/dist-packages (from matplotlib>=3.0->lifelines->ISLP) (11.3.0)\n",
            "Requirement already satisfied: pyparsing>=2.3.1 in /usr/local/lib/python3.12/dist-packages (from matplotlib>=3.0->lifelines->ISLP) (3.2.4)\n",
            "Requirement already satisfied: python-utils>=3.8.1 in /usr/local/lib/python3.12/dist-packages (from progressbar2<5,>=4.2.0->pygam->ISLP) (3.9.1)\n",
            "Requirement already satisfied: six>=1.5 in /usr/local/lib/python3.12/dist-packages (from python-dateutil>=2.8.2->pandas>=0.20->ISLP) (1.17.0)\n",
            "Requirement already satisfied: mpmath<1.4,>=1.1.0 in /usr/local/lib/python3.12/dist-packages (from sympy>=1.13.3->torch->ISLP) (1.3.0)\n",
            "Requirement already satisfied: MarkupSafe>=2.0 in /usr/local/lib/python3.12/dist-packages (from jinja2->torch->ISLP) (3.0.2)\n",
            "Requirement already satisfied: aiohappyeyeballs>=2.5.0 in /usr/local/lib/python3.12/dist-packages (from aiohttp!=4.0.0a0,!=4.0.0a1->fsspec[http]>=2022.5.0->pytorch-lightning->ISLP) (2.6.1)\n",
            "Requirement already satisfied: aiosignal>=1.4.0 in /usr/local/lib/python3.12/dist-packages (from aiohttp!=4.0.0a0,!=4.0.0a1->fsspec[http]>=2022.5.0->pytorch-lightning->ISLP) (1.4.0)\n",
            "Requirement already satisfied: attrs>=17.3.0 in /usr/local/lib/python3.12/dist-packages (from aiohttp!=4.0.0a0,!=4.0.0a1->fsspec[http]>=2022.5.0->pytorch-lightning->ISLP) (25.3.0)\n",
            "Requirement already satisfied: frozenlist>=1.1.1 in /usr/local/lib/python3.12/dist-packages (from aiohttp!=4.0.0a0,!=4.0.0a1->fsspec[http]>=2022.5.0->pytorch-lightning->ISLP) (1.7.0)\n",
            "Requirement already satisfied: multidict<7.0,>=4.5 in /usr/local/lib/python3.12/dist-packages (from aiohttp!=4.0.0a0,!=4.0.0a1->fsspec[http]>=2022.5.0->pytorch-lightning->ISLP) (6.6.4)\n",
            "Requirement already satisfied: propcache>=0.2.0 in /usr/local/lib/python3.12/dist-packages (from aiohttp!=4.0.0a0,!=4.0.0a1->fsspec[http]>=2022.5.0->pytorch-lightning->ISLP) (0.3.2)\n",
            "Requirement already satisfied: yarl<2.0,>=1.17.0 in /usr/local/lib/python3.12/dist-packages (from aiohttp!=4.0.0a0,!=4.0.0a1->fsspec[http]>=2022.5.0->pytorch-lightning->ISLP) (1.20.1)\n",
            "Requirement already satisfied: idna>=2.0 in /usr/local/lib/python3.12/dist-packages (from yarl<2.0,>=1.17.0->aiohttp!=4.0.0a0,!=4.0.0a1->fsspec[http]>=2022.5.0->pytorch-lightning->ISLP) (3.10)\n",
            "Downloading ISLP-0.4.0-py3-none-any.whl (3.6 MB)\n",
            "\u001b[2K   \u001b[90m━━━━━━━━━━━━━━━━━━━━━━━━━━━━━━━━━━━━━━━━\u001b[0m \u001b[32m3.6/3.6 MB\u001b[0m \u001b[31m33.7 MB/s\u001b[0m eta \u001b[36m0:00:00\u001b[0m\n",
            "\u001b[?25hDownloading lifelines-0.30.0-py3-none-any.whl (349 kB)\n",
            "\u001b[2K   \u001b[90m━━━━━━━━━━━━━━━━━━━━━━━━━━━━━━━━━━━━━━━━\u001b[0m \u001b[32m349.3/349.3 kB\u001b[0m \u001b[31m22.0 MB/s\u001b[0m eta \u001b[36m0:00:00\u001b[0m\n",
            "\u001b[?25hDownloading pygam-0.10.1-py3-none-any.whl (80 kB)\n",
            "\u001b[2K   \u001b[90m━━━━━━━━━━━━━━━━━━━━━━━━━━━━━━━━━━━━━━━━\u001b[0m \u001b[32m80.2/80.2 kB\u001b[0m \u001b[31m5.7 MB/s\u001b[0m eta \u001b[36m0:00:00\u001b[0m\n",
            "\u001b[?25hDownloading pytorch_lightning-2.5.5-py3-none-any.whl (832 kB)\n",
            "\u001b[2K   \u001b[90m━━━━━━━━━━━━━━━━━━━━━━━━━━━━━━━━━━━━━━━━\u001b[0m \u001b[32m832.4/832.4 kB\u001b[0m \u001b[31m40.8 MB/s\u001b[0m eta \u001b[36m0:00:00\u001b[0m\n",
            "\u001b[?25hDownloading torchmetrics-1.8.2-py3-none-any.whl (983 kB)\n",
            "\u001b[2K   \u001b[90m━━━━━━━━━━━━━━━━━━━━━━━━━━━━━━━━━━━━━━━━\u001b[0m \u001b[32m983.2/983.2 kB\u001b[0m \u001b[31m42.5 MB/s\u001b[0m eta \u001b[36m0:00:00\u001b[0m\n",
            "\u001b[?25hDownloading formulaic-1.2.1-py3-none-any.whl (117 kB)\n",
            "\u001b[2K   \u001b[90m━━━━━━━━━━━━━━━━━━━━━━━━━━━━━━━━━━━━━━━━\u001b[0m \u001b[32m117.3/117.3 kB\u001b[0m \u001b[31m8.3 MB/s\u001b[0m eta \u001b[36m0:00:00\u001b[0m\n",
            "\u001b[?25hDownloading lightning_utilities-0.15.2-py3-none-any.whl (29 kB)\n",
            "Downloading interface_meta-1.3.0-py3-none-any.whl (14 kB)\n",
            "Building wheels for collected packages: autograd-gamma\n",
            "  Building wheel for autograd-gamma (setup.py) ... \u001b[?25l\u001b[?25hdone\n",
            "  Created wheel for autograd-gamma: filename=autograd_gamma-0.5.0-py3-none-any.whl size=4030 sha256=9c859ad37d5fa48c5158895965480fbc08742cdb3277fb2b2a69c506a55f1c15\n",
            "  Stored in directory: /root/.cache/pip/wheels/50/37/21/0a719b9d89c635e89ff24bd93b862882ad675279552013b2fb\n",
            "Successfully built autograd-gamma\n",
            "Installing collected packages: lightning-utilities, interface-meta, autograd-gamma, pygam, formulaic, torchmetrics, lifelines, pytorch-lightning, ISLP\n",
            "Successfully installed ISLP-0.4.0 autograd-gamma-0.5.0 formulaic-1.2.1 interface-meta-1.3.0 lifelines-0.30.0 lightning-utilities-0.15.2 pygam-0.10.1 pytorch-lightning-2.5.5 torchmetrics-1.8.2\n"
          ]
        }
      ],
      "source": [
        "# Load data through the ISLP package\n",
        "!pip install ISLP\n",
        "import ISLP\n",
        "from ISLP import load_data\n",
        "\n",
        "# Load the data\n",
        "Boston = load_data(\"Boston\")\n",
        "\n",
        "# Import the necessary modules\n",
        "from sklearn.linear_model import LinearRegression\n",
        "import numpy as np\n",
        "import pandas as pd\n",
        "import matplotlib.pyplot as plt\n",
        "import statsmodels.api as sm"
      ]
    },
    {
      "cell_type": "markdown",
      "metadata": {
        "id": "rUNqZ-RoA2GL"
      },
      "source": [
        "# Question 1:\n",
        "Fit a simple linear regression model to the Boston data with `medv` as the response variable and `lstat` as the predictor variable. What is the value of `medv` for a lstat value of 20? (Round your answers to 2 decimal places.)"
      ]
    },
    {
      "cell_type": "code",
      "execution_count": null,
      "metadata": {
        "colab": {
          "base_uri": "https://localhost:8080/"
        },
        "id": "4l2SyjmlEXGk",
        "outputId": "96ba9652-ae1a-47e7-c457-34826631833f"
      },
      "outputs": [
        {
          "output_type": "execute_result",
          "data": {
            "text/plain": [
              "['__abstractmethods__',\n",
              " '__annotations__',\n",
              " '__class__',\n",
              " '__delattr__',\n",
              " '__dict__',\n",
              " '__dir__',\n",
              " '__doc__',\n",
              " '__eq__',\n",
              " '__format__',\n",
              " '__ge__',\n",
              " '__getattribute__',\n",
              " '__getstate__',\n",
              " '__gt__',\n",
              " '__hash__',\n",
              " '__init__',\n",
              " '__init_subclass__',\n",
              " '__le__',\n",
              " '__lt__',\n",
              " '__module__',\n",
              " '__ne__',\n",
              " '__new__',\n",
              " '__reduce__',\n",
              " '__reduce_ex__',\n",
              " '__repr__',\n",
              " '__setattr__',\n",
              " '__setstate__',\n",
              " '__sizeof__',\n",
              " '__sklearn_clone__',\n",
              " '__sklearn_tags__',\n",
              " '__str__',\n",
              " '__subclasshook__',\n",
              " '__weakref__',\n",
              " '_abc_impl',\n",
              " '_build_request_for_signature',\n",
              " '_check_feature_names',\n",
              " '_check_n_features',\n",
              " '_decision_function',\n",
              " '_doc_link_module',\n",
              " '_doc_link_template',\n",
              " '_doc_link_url_param_generator',\n",
              " '_estimator_type',\n",
              " '_get_default_requests',\n",
              " '_get_doc_link',\n",
              " '_get_metadata_request',\n",
              " '_get_param_names',\n",
              " '_get_tags',\n",
              " '_more_tags',\n",
              " '_parameter_constraints',\n",
              " '_repr_html_',\n",
              " '_repr_html_inner',\n",
              " '_repr_mimebundle_',\n",
              " '_set_intercept',\n",
              " '_validate_data',\n",
              " '_validate_params',\n",
              " 'coef_',\n",
              " 'copy_X',\n",
              " 'feature_names_in_',\n",
              " 'fit',\n",
              " 'fit_intercept',\n",
              " 'get_metadata_routing',\n",
              " 'get_params',\n",
              " 'intercept_',\n",
              " 'n_features_in_',\n",
              " 'n_jobs',\n",
              " 'positive',\n",
              " 'predict',\n",
              " 'rank_',\n",
              " 'score',\n",
              " 'set_fit_request',\n",
              " 'set_params',\n",
              " 'set_score_request',\n",
              " 'singular_']"
            ]
          },
          "metadata": {},
          "execution_count": 5
        }
      ],
      "source": [
        "# Extract the predictor (lstat) and response (medv)\n",
        "X = Boston[['lstat']]  # Predictor\n",
        "y = Boston['medv']     # Response\n",
        "\n",
        "# Fit the simple linear regression model using sklearn\n",
        "lin_reg = LinearRegression()\n",
        "lin_reg.fit(X, y)\n",
        "\n",
        "lin_reg?\n",
        "dir(lin_reg)\n",
        "\n"
      ]
    },
    {
      "cell_type": "code",
      "execution_count": null,
      "metadata": {
        "colab": {
          "base_uri": "https://localhost:8080/"
        },
        "id": "jAHLdjccdNqW",
        "outputId": "0341cc36-7dd1-4e02-8273-44b8bae1b279"
      },
      "outputs": [
        {
          "output_type": "stream",
          "name": "stdout",
          "text": [
            "Intercept: 34.5538408793831\n",
            "Coefficient: -0.9500493537579906\n",
            "The predicted value of medv for lstat = 20 is: 15.55\n"
          ]
        },
        {
          "output_type": "stream",
          "name": "stderr",
          "text": [
            "/usr/local/lib/python3.12/dist-packages/sklearn/utils/validation.py:2739: UserWarning: X does not have valid feature names, but LinearRegression was fitted with feature names\n",
            "  warnings.warn(\n"
          ]
        }
      ],
      "source": [
        "print(f\"Intercept: {lin_reg.intercept_}\")\n",
        "print(f\"Coefficient: {lin_reg.coef_[0]}\")\n",
        "\n",
        "# Predict medv for lstat = 20\n",
        "lstat_value = np.array([[20]])\n",
        "medv_pred = lin_reg.predict(lstat_value)\n",
        "\n",
        "# Round the result to two decimal places\n",
        "medv_pred_rounded = round(medv_pred[0], 2)\n",
        "\n",
        "# Display result\n",
        "print(f\"The predicted value of medv for lstat = 20 is: {medv_pred_rounded}\")\n"
      ]
    },
    {
      "cell_type": "code",
      "execution_count": null,
      "metadata": {
        "colab": {
          "base_uri": "https://localhost:8080/"
        },
        "id": "THASdTFddNqW",
        "outputId": "e1c9b13a-a211-4550-c7ff-66b457cb625f"
      },
      "outputs": [
        {
          "output_type": "stream",
          "name": "stdout",
          "text": [
            "                            OLS Regression Results                            \n",
            "==============================================================================\n",
            "Dep. Variable:                   medv   R-squared:                       0.544\n",
            "Model:                            OLS   Adj. R-squared:                  0.543\n",
            "Method:                 Least Squares   F-statistic:                     601.6\n",
            "Date:                Fri, 26 Sep 2025   Prob (F-statistic):           5.08e-88\n",
            "Time:                        19:56:28   Log-Likelihood:                -1641.5\n",
            "No. Observations:                 506   AIC:                             3287.\n",
            "Df Residuals:                     504   BIC:                             3295.\n",
            "Df Model:                           1                                         \n",
            "Covariance Type:            nonrobust                                         \n",
            "==============================================================================\n",
            "                 coef    std err          t      P>|t|      [0.025      0.975]\n",
            "------------------------------------------------------------------------------\n",
            "const         34.5538      0.563     61.415      0.000      33.448      35.659\n",
            "lstat         -0.9500      0.039    -24.528      0.000      -1.026      -0.874\n",
            "==============================================================================\n",
            "Omnibus:                      137.043   Durbin-Watson:                   0.892\n",
            "Prob(Omnibus):                  0.000   Jarque-Bera (JB):              291.373\n",
            "Skew:                           1.453   Prob(JB):                     5.36e-64\n",
            "Kurtosis:                       5.319   Cond. No.                         29.7\n",
            "==============================================================================\n",
            "\n",
            "Notes:\n",
            "[1] Standard Errors assume that the covariance matrix of the errors is correctly specified.\n"
          ]
        }
      ],
      "source": [
        "# Fit the linear regression model using statsmodels to get a summary\n",
        "X_sm = sm.add_constant(X)  # Adds an intercept term to the model\n",
        "model = sm.OLS(y, X_sm).fit()\n",
        "print(model.summary())\n"
      ]
    },
    {
      "cell_type": "markdown",
      "metadata": {
        "id": "GBTlA2Nb1UC2"
      },
      "source": [
        "# Question 2:\n",
        "In the previous example, what are the bound for the 95% prediction interval of `medv` associated with an `lstat` value of 20? (Round your answer to 1 decimal place)\n",
        "\n"
      ]
    },
    {
      "cell_type": "code",
      "execution_count": null,
      "metadata": {
        "colab": {
          "base_uri": "https://localhost:8080/"
        },
        "id": "m72LMX6x1ZKv",
        "outputId": "2330f4d5-f0d6-425e-fa14-5e4f6a756703"
      },
      "outputs": [
        {
          "output_type": "stream",
          "name": "stdout",
          "text": [
            "   const  lstat\n",
            "0      1     20\n",
            "Lower-bound: 3.3\n",
            "Upper-bound: 27.8\n"
          ]
        }
      ],
      "source": [
        "# Predict medv for lstat = 20 using statsmodels and get prediction intervals\n",
        "new_data = pd.DataFrame({'const': 1, 'lstat': [20]})\n",
        "print(new_data)\n",
        "\n",
        "?model.get_prediction\n",
        "prediction = model.get_prediction(new_data)\n",
        "prediction_summary = prediction.summary_frame(alpha=0.05)  # 95% confidence level\n",
        "\n",
        "# Extract the lower and upper bounds of the prediction interval\n",
        "lower_bound = round(prediction_summary['obs_ci_lower'][0], 1)\n",
        "upper_bound = round(prediction_summary['obs_ci_upper'][0], 1)\n",
        "\n",
        "# Display the prediction interval\n",
        "print(f\"Lower-bound: {lower_bound}\")\n",
        "print(f\"Upper-bound: {upper_bound}\")\n",
        "# print(\"Upper-bound:\", upper_bound)\n",
        "\n"
      ]
    },
    {
      "cell_type": "markdown",
      "metadata": {
        "id": "Bq8wTsayZ73a"
      },
      "source": [
        "# Question 3:\n",
        "Fit a multiple linear regression model to the Boston data with `medv` as the response variable and all the other variables except `age` as the predictor variables. Which predictor has the highest p-value for this model fit?\n",
        "\n",
        "\n",
        "Section 3.6.3 Multiple Linear Regression\n",
        "\n",
        "Fit a multiple linear regression model to the Boston data with medv as the response variable and all the other variables except age as the predictor variables. Which predictor has the highest p-value for this model fit?\n",
        "\n",
        "\n",
        "a) crim\n",
        "\n",
        "b) zn\n",
        "\n",
        "c) indus\n",
        "\n",
        "d) chas\n",
        "\n",
        "e) tax"
      ]
    },
    {
      "cell_type": "code",
      "execution_count": null,
      "metadata": {
        "colab": {
          "base_uri": "https://localhost:8080/"
        },
        "id": "949TBUkLZ7RG",
        "outputId": "dff64e23-344c-48d4-9652-9531658631de"
      },
      "outputs": [
        {
          "output_type": "stream",
          "name": "stdout",
          "text": [
            "                            OLS Regression Results                            \n",
            "==============================================================================\n",
            "Dep. Variable:                   medv   R-squared:                       0.734\n",
            "Model:                            OLS   Adj. R-squared:                  0.728\n",
            "Method:                 Least Squares   F-statistic:                     124.1\n",
            "Date:                Fri, 26 Sep 2025   Prob (F-statistic):          2.03e-134\n",
            "Time:                        20:07:59   Log-Likelihood:                -1504.9\n",
            "No. Observations:                 506   AIC:                             3034.\n",
            "Df Residuals:                     494   BIC:                             3085.\n",
            "Df Model:                          11                                         \n",
            "Covariance Type:            nonrobust                                         \n",
            "==============================================================================\n",
            "                 coef    std err          t      P>|t|      [0.025      0.975]\n",
            "------------------------------------------------------------------------------\n",
            "const         41.5251      4.920      8.441      0.000      31.859      51.191\n",
            "crim          -0.1214      0.033     -3.683      0.000      -0.186      -0.057\n",
            "zn             0.0465      0.014      3.379      0.001       0.019       0.074\n",
            "indus          0.0135      0.062      0.217      0.829      -0.109       0.135\n",
            "chas           2.8528      0.868      3.287      0.001       1.148       4.558\n",
            "nox          -18.4851      3.714     -4.978      0.000     -25.782     -11.188\n",
            "rm             3.6811      0.411      8.951      0.000       2.873       4.489\n",
            "dis           -1.5068      0.193     -7.825      0.000      -1.885      -1.128\n",
            "rad            0.2879      0.067      4.322      0.000       0.157       0.419\n",
            "tax           -0.0127      0.004     -3.333      0.001      -0.020      -0.005\n",
            "ptratio       -0.9346      0.132     -7.099      0.000      -1.193      -0.676\n",
            "lstat         -0.5474      0.048    -11.483      0.000      -0.641      -0.454\n",
            "==============================================================================\n",
            "Omnibus:                      172.506   Durbin-Watson:                   1.073\n",
            "Prob(Omnibus):                  0.000   Jarque-Bera (JB):              724.941\n",
            "Skew:                           1.485   Prob(JB):                    3.81e-158\n",
            "Kurtosis:                       8.056   Cond. No.                     1.15e+04\n",
            "==============================================================================\n",
            "\n",
            "Notes:\n",
            "[1] Standard Errors assume that the covariance matrix of the errors is correctly specified.\n",
            "[2] The condition number is large, 1.15e+04. This might indicate that there are\n",
            "strong multicollinearity or other numerical problems.\n",
            "\n",
            " Highest p-value is: indus, p = 0.8285767411187408\n"
          ]
        }
      ],
      "source": [
        "X = Boston.drop(columns=['medv', 'age'])    # Drop the response variable 'medv' and 'age'\n",
        "y = Boston['medv']                          # Response variable\n",
        "\n",
        "# Add a constant (intercept term)\n",
        "X = sm.add_constant(X)\n",
        "\n",
        "# Fit the multiple linear regression model\n",
        "model = sm.OLS(y, X).fit()\n",
        "\n",
        "# Output the summary of the model, which includes p-values\n",
        "print(model.summary())\n",
        "\n",
        "# Find the predictor with the highest p-value\n",
        "p_values = model.pvalues\n",
        "highest_pvalue_predictor = p_values.idxmax()\n",
        "highest_pvalue = p_values.max()\n",
        "\n",
        "# Display the predictor with the highest p-value\n",
        "print(f\"\\n Highest p-value is: {highest_pvalue_predictor}, p = {highest_pvalue}\")"
      ]
    },
    {
      "cell_type": "markdown",
      "metadata": {
        "id": "cOfysv7Babkt"
      },
      "source": [
        "From the table above, we can see that indus (industry) has the highest P value and is, thus, the least significant variable"
      ]
    },
    {
      "cell_type": "markdown",
      "metadata": {
        "id": "GUMDy99b6cV2"
      },
      "source": [
        "# Question 4:\n",
        "\n",
        "Fit a multiple linear regression model to the Boston data with `medv` as the response variable and all the other variables except `age` as the predictor variables.\n",
        "\n",
        "Use this code with your specified linear regression model:\n",
        "\n",
        "`influence = results1.get_influence()`\n",
        "\n",
        "`summary = influence.summary_frame()`\n",
        "\n",
        "\n",
        "The columns 'student_resid', 'hat_diag', and 'cooks_d' return the studentized residuals, leverages, and Cook's distances (a combined measure of outlyingness and leverage for which values above 0.5 suggest possible influential observations and values above 1 suggest probable influential observations). Use these columns to find the index numbers of the observations with the highest absolute studentized residual, leverage, and Cook's distance, together with the values of these highest absolute studentized residual, leverage, and Cook's distance. (The index numbers will be whole numbers and you should round the values of the statistics to 2 decimal places).\n",
        "\n",
        "\n",
        "\n",
        "*   Highest absolute studentized residual: index number = ____, value = ____   \n",
        "*   Highest leverage: index number = ____, value = ____\n",
        "*   Highest Cook’s distance: index number = ____, value = _____\n",
        "\n",
        "\n",
        "You may use the following code:\n",
        "\n",
        "\n",
        "\n",
        "`print(\"Studentized Resid Index: \", summary['student_resid'].idxmax(),\n",
        "      \"\\nStudentized Resid Max: \", summary['student_resid'].max(), \"\\n\")`\n",
        "\n",
        "`print(\"Leverages Index: \", summary['hat_diag'].idxmax(), \"\\nLeverages Max: \", summary['hat_diag'].max(), \"\\n\")`\n",
        "\n",
        "`print(\"Cooks Distance Index: \", summary['cooks_d'].idxmax(), \"\\nCooks Distance Max: \", summary['cooks_d'].max())`\n",
        "\n",
        "- https://learnche.org/pid/least-squares-modelling/outliers-discrepancy-leverage-and-influence-of-the-observations\n",
        "\n",
        "- https://tillbe.github.io/outlier-influence-identification.html\n"
      ]
    },
    {
      "cell_type": "code",
      "execution_count": null,
      "metadata": {
        "colab": {
          "base_uri": "https://localhost:8080/"
        },
        "id": "aWnnvyPl7DZz",
        "outputId": "dd620877-26f2-483c-872e-b9ad069a6731"
      },
      "outputs": [
        {
          "output_type": "stream",
          "name": "stdout",
          "text": [
            "Highest absolute studentized residual: index number = 368, value = 5.85\n",
            "Highest leverage: index number = 380, value = 0.29\n",
            "Highest Cook's distance: index number = 368, value = 0.16\n"
          ]
        }
      ],
      "source": [
        "# Load the data and drop 'age'\n",
        "X = Boston.drop(columns=['medv', 'age'])  # Drop 'age' and 'medv' from the predictors\n",
        "y = Boston['medv']  # Response variable\n",
        "\n",
        "# Add a constant (intercept)\n",
        "X = sm.add_constant(X)\n",
        "\n",
        "# Fit the multiple linear regression model\n",
        "model = sm.OLS(y, X).fit()\n",
        "\n",
        "# Get influence statistics\n",
        "influence = model.get_influence()\n",
        "summary = influence.summary_frame()\n",
        "\n",
        "# Find the highest absolute studentized residual\n",
        "highest_student_resid_idx = summary['student_resid'].abs().idxmax()  # Index of max absolute studentized residual\n",
        "highest_student_resid_value = round(summary['student_resid'].abs().max(), 2)  # Value of max absolute studentized residual\n",
        "\n",
        "# Find the highest leverage\n",
        "highest_leverage_idx = summary['hat_diag'].idxmax()  # Index of max leverage\n",
        "highest_leverage_value = round(summary['hat_diag'].max(), 2)  # Value of max leverage\n",
        "\n",
        "# Find the highest Cook's distance\n",
        "highest_cooks_d_idx = summary['cooks_d'].idxmax()  # Index of max Cook's distance\n",
        "highest_cooks_d_value = round(summary['cooks_d'].max(), 2)  # Value of max Cook's distance\n",
        "\n",
        "# Print results\n",
        "print(f\"Highest absolute studentized residual: index number = {highest_student_resid_idx}, value = {highest_student_resid_value}\")\n",
        "print(f\"Highest leverage: index number = {highest_leverage_idx}, value = {highest_leverage_value}\")\n",
        "print(f\"Highest Cook's distance: index number = {highest_cooks_d_idx}, value = {highest_cooks_d_value}\")"
      ]
    },
    {
      "cell_type": "code",
      "execution_count": null,
      "metadata": {
        "colab": {
          "base_uri": "https://localhost:8080/"
        },
        "id": "CVZ65AjnDeZj",
        "outputId": "c85bdd69-1057-4b5f-f55d-429fc3a93ba2"
      },
      "outputs": [
        {
          "output_type": "stream",
          "name": "stdout",
          "text": [
            "['HC0_se', 'HC1_se', 'HC2_se', 'HC3_se', '_HCCM', '__class__', '__delattr__', '__dict__', '__dir__', '__doc__', '__eq__', '__format__', '__ge__', '__getattribute__', '__getstate__', '__gt__', '__hash__', '__init__', '__init_subclass__', '__le__', '__lt__', '__module__', '__ne__', '__new__', '__reduce__', '__reduce_ex__', '__repr__', '__setattr__', '__sizeof__', '__str__', '__subclasshook__', '__weakref__', '_abat_diagonal', '_cache', '_data_attr', '_data_in_cache', '_get_robustcov_results', '_get_wald_nonlinear', '_is_nested', '_transform_predict_exog', '_use_t', '_wexog_singular_values', 'aic', 'bic', 'bse', 'centered_tss', 'compare_f_test', 'compare_lm_test', 'compare_lr_test', 'condition_number', 'conf_int', 'conf_int_el', 'cov_HC0', 'cov_HC1', 'cov_HC2', 'cov_HC3', 'cov_kwds', 'cov_params', 'cov_type', 'df_model', 'df_resid', 'eigenvals', 'el_test', 'ess', 'f_pvalue', 'f_test', 'fittedvalues', 'fvalue', 'get_influence', 'get_prediction', 'get_robustcov_results', 'info_criteria', 'initialize', 'k_constant', 'llf', 'load', 'model', 'mse_model', 'mse_resid', 'mse_total', 'nobs', 'normalized_cov_params', 'outlier_test', 'params', 'predict', 'pvalues', 'remove_data', 'resid', 'resid_pearson', 'rsquared', 'rsquared_adj', 'save', 'scale', 'ssr', 'summary', 'summary2', 't_test', 't_test_pairwise', 'tvalues', 'uncentered_tss', 'use_t', 'wald_test', 'wald_test_terms', 'wresid']\n",
            "<statsmodels.stats.outliers_influence.OLSInfluence object at 0x7abd5bc81ca0>\n"
          ]
        },
        {
          "output_type": "execute_result",
          "data": {
            "text/plain": [
              "['__class__',\n",
              " '__delattr__',\n",
              " '__dict__',\n",
              " '__dir__',\n",
              " '__doc__',\n",
              " '__eq__',\n",
              " '__format__',\n",
              " '__ge__',\n",
              " '__getattribute__',\n",
              " '__getstate__',\n",
              " '__gt__',\n",
              " '__hash__',\n",
              " '__init__',\n",
              " '__init_subclass__',\n",
              " '__le__',\n",
              " '__lt__',\n",
              " '__module__',\n",
              " '__ne__',\n",
              " '__new__',\n",
              " '__reduce__',\n",
              " '__reduce_ex__',\n",
              " '__repr__',\n",
              " '__setattr__',\n",
              " '__sizeof__',\n",
              " '__str__',\n",
              " '__subclasshook__',\n",
              " '__weakref__',\n",
              " '_cache',\n",
              " '_get_drop_vari',\n",
              " '_ols_xnoti',\n",
              " '_plot_index',\n",
              " '_res_looo',\n",
              " 'aux_regression_endog',\n",
              " 'aux_regression_exog',\n",
              " 'cooks_distance',\n",
              " 'cov_ratio',\n",
              " 'det_cov_params_not_obsi',\n",
              " 'dfbeta',\n",
              " 'dfbetas',\n",
              " 'dffits',\n",
              " 'dffits_internal',\n",
              " 'endog',\n",
              " 'ess_press',\n",
              " 'exog',\n",
              " 'get_resid_studentized_external',\n",
              " 'hat_diag_factor',\n",
              " 'hat_matrix_diag',\n",
              " 'influence',\n",
              " 'k_vars',\n",
              " 'model_class',\n",
              " 'nobs',\n",
              " 'params_not_obsi',\n",
              " 'plot_index',\n",
              " 'plot_influence',\n",
              " 'resid',\n",
              " 'resid_press',\n",
              " 'resid_std',\n",
              " 'resid_studentized',\n",
              " 'resid_studentized_external',\n",
              " 'resid_studentized_internal',\n",
              " 'resid_var',\n",
              " 'results',\n",
              " 'scale',\n",
              " 'sigma2_not_obsi',\n",
              " 'summary_frame',\n",
              " 'summary_table']"
            ]
          },
          "metadata": {},
          "execution_count": 13
        }
      ],
      "source": [
        "print(dir(model))\n",
        "print(influence)\n",
        "dir(influence)"
      ]
    },
    {
      "cell_type": "markdown",
      "metadata": {
        "id": "LFqee8Do9AMe"
      },
      "source": [
        "# Question 5:\n",
        "\n",
        "Fit the multiple linear regression model to the Boston dataset with `medv` as the response variable and `lstat`, `age`, and the interaction term `lstat x age` as predictors (call this model 1). Also fit the model with `lstat`, `rm`, and the interaction term `lstat x rm` as predictors (call this model 2). Based on the measures of model fit, RSE and R2, is it true or false that model 1 \"fits better\" than model 2?"
      ]
    },
    {
      "cell_type": "code",
      "execution_count": null,
      "metadata": {
        "colab": {
          "base_uri": "https://localhost:8080/"
        },
        "id": "tSrEEdBa9Df0",
        "outputId": "1110ffeb-9bae-40c8-a839-4fae261fb904"
      },
      "outputs": [
        {
          "output_type": "stream",
          "name": "stdout",
          "text": [
            "        crim    zn  indus  chas    nox     rm   age     dis  rad  tax  \\\n",
            "0    0.00632  18.0   2.31     0  0.538  6.575  65.2  4.0900    1  296   \n",
            "1    0.02731   0.0   7.07     0  0.469  6.421  78.9  4.9671    2  242   \n",
            "2    0.02729   0.0   7.07     0  0.469  7.185  61.1  4.9671    2  242   \n",
            "3    0.03237   0.0   2.18     0  0.458  6.998  45.8  6.0622    3  222   \n",
            "4    0.06905   0.0   2.18     0  0.458  7.147  54.2  6.0622    3  222   \n",
            "..       ...   ...    ...   ...    ...    ...   ...     ...  ...  ...   \n",
            "501  0.06263   0.0  11.93     0  0.573  6.593  69.1  2.4786    1  273   \n",
            "502  0.04527   0.0  11.93     0  0.573  6.120  76.7  2.2875    1  273   \n",
            "503  0.06076   0.0  11.93     0  0.573  6.976  91.0  2.1675    1  273   \n",
            "504  0.10959   0.0  11.93     0  0.573  6.794  89.3  2.3889    1  273   \n",
            "505  0.04741   0.0  11.93     0  0.573  6.030  80.8  2.5050    1  273   \n",
            "\n",
            "     ptratio  lstat  medv  lstat_age  lstat_rm  \n",
            "0       15.3   4.98  24.0    324.696  32.74350  \n",
            "1       17.8   9.14  21.6    721.146  58.68794  \n",
            "2       17.8   4.03  34.7    246.233  28.95555  \n",
            "3       18.7   2.94  33.4    134.652  20.57412  \n",
            "4       18.7   5.33  36.2    288.886  38.09351  \n",
            "..       ...    ...   ...        ...       ...  \n",
            "501     21.0   9.67  22.4    668.197  63.75431  \n",
            "502     21.0   9.08  20.6    696.436  55.56960  \n",
            "503     21.0   5.64  23.9    513.240  39.34464  \n",
            "504     21.0   6.48  22.0    578.664  44.02512  \n",
            "505     21.0   7.88  11.9    636.704  47.51640  \n",
            "\n",
            "[506 rows x 15 columns]\n",
            "Model 1 Summary:\n",
            "                            OLS Regression Results                            \n",
            "==============================================================================\n",
            "Dep. Variable:                   medv   R-squared:                       0.556\n",
            "Model:                            OLS   Adj. R-squared:                  0.553\n",
            "Method:                 Least Squares   F-statistic:                     209.3\n",
            "Date:                Fri, 26 Sep 2025   Prob (F-statistic):           4.86e-88\n",
            "Time:                        20:10:27   Log-Likelihood:                -1635.0\n",
            "No. Observations:                 506   AIC:                             3278.\n",
            "Df Residuals:                     502   BIC:                             3295.\n",
            "Df Model:                           3                                         \n",
            "Covariance Type:            nonrobust                                         \n",
            "==============================================================================\n",
            "                 coef    std err          t      P>|t|      [0.025      0.975]\n",
            "------------------------------------------------------------------------------\n",
            "const         36.0885      1.470     24.553      0.000      33.201      38.976\n",
            "lstat         -1.3921      0.167     -8.313      0.000      -1.721      -1.063\n",
            "age           -0.0007      0.020     -0.036      0.971      -0.040       0.038\n",
            "lstat_age      0.0042      0.002      2.244      0.025       0.001       0.008\n",
            "==============================================================================\n",
            "Omnibus:                      135.601   Durbin-Watson:                   0.965\n",
            "Prob(Omnibus):                  0.000   Jarque-Bera (JB):              296.955\n",
            "Skew:                           1.417   Prob(JB):                     3.29e-65\n",
            "Kurtosis:                       5.461   Cond. No.                     6.88e+03\n",
            "==============================================================================\n",
            "\n",
            "Notes:\n",
            "[1] Standard Errors assume that the covariance matrix of the errors is correctly specified.\n",
            "[2] The condition number is large, 6.88e+03. This might indicate that there are\n",
            "strong multicollinearity or other numerical problems.\n",
            "\n",
            "Model 2 Summary:\n",
            "                            OLS Regression Results                            \n",
            "==============================================================================\n",
            "Dep. Variable:                   medv   R-squared:                       0.740\n",
            "Model:                            OLS   Adj. R-squared:                  0.739\n",
            "Method:                 Least Squares   F-statistic:                     476.9\n",
            "Date:                Fri, 26 Sep 2025   Prob (F-statistic):          1.75e-146\n",
            "Time:                        20:10:27   Log-Likelihood:                -1499.2\n",
            "No. Observations:                 506   AIC:                             3006.\n",
            "Df Residuals:                     502   BIC:                             3023.\n",
            "Df Model:                           3                                         \n",
            "Covariance Type:            nonrobust                                         \n",
            "==============================================================================\n",
            "                 coef    std err          t      P>|t|      [0.025      0.975]\n",
            "------------------------------------------------------------------------------\n",
            "const        -29.1245      3.342     -8.713      0.000     -35.692     -22.558\n",
            "lstat          2.1940      0.206     10.666      0.000       1.790       2.598\n",
            "rm             9.7013      0.500     19.393      0.000       8.718      10.684\n",
            "lstat_rm      -0.4849      0.035    -14.018      0.000      -0.553      -0.417\n",
            "==============================================================================\n",
            "Omnibus:                      223.968   Durbin-Watson:                   0.971\n",
            "Prob(Omnibus):                  0.000   Jarque-Bera (JB):             2182.462\n",
            "Skew:                           1.666   Prob(JB):                         0.00\n",
            "Kurtosis:                      12.613   Cond. No.                     1.41e+03\n",
            "==============================================================================\n",
            "\n",
            "Notes:\n",
            "[1] Standard Errors assume that the covariance matrix of the errors is correctly specified.\n",
            "[2] The condition number is large, 1.41e+03. This might indicate that there are\n",
            "strong multicollinearity or other numerical problems.\n",
            "\n",
            "Model 1 - RSE: 6.15, R^2: 0.5557\n",
            "Model 2 - RSE: 4.70, R^2: 0.7402\n"
          ]
        }
      ],
      "source": [
        "# Create interaction terms for both models\n",
        "Boston['lstat_age'] = Boston['lstat'] * Boston['age']\n",
        "Boston['lstat_rm'] = Boston['lstat'] * Boston['rm']\n",
        "\n",
        "print(Boston)\n",
        "\n",
        "# Model 1: Predictors are lstat, age, and lstat x age\n",
        "X1 = Boston[['lstat', 'age', 'lstat_age']]\n",
        "y = Boston['medv']\n",
        "X1 = sm.add_constant(X1)  # Add intercept\n",
        "model1 = sm.OLS(y, X1).fit()\n",
        "\n",
        "# Model 2: Predictors are lstat, rm, and lstat x rm\n",
        "X2 = Boston[['lstat', 'rm', 'lstat_rm']]\n",
        "X2 = sm.add_constant(X2)  # Add intercept\n",
        "model2 = sm.OLS(y, X2).fit()\n",
        "\n",
        "# Print summaries for both models\n",
        "print(\"Model 1 Summary:\")\n",
        "print(model1.summary())\n",
        "print(\"\\nModel 2 Summary:\")\n",
        "print(model2.summary())\n",
        "\n",
        "# Extract RSE and R-squared for both models\n",
        "# RSE = sqrt of model's mean squared error (residuals)\n",
        "rse_model1 = np.sqrt(model1.mse_resid)\n",
        "rse_model2 = np.sqrt(model2.mse_resid)\n",
        "\n",
        "r2_model1 = model1.rsquared\n",
        "r2_model2 = model2.rsquared\n",
        "\n",
        "# Print the RSE and R^2 values for both models\n",
        "print(f\"\\nModel 1 - RSE: {rse_model1:.2f}, R^2: {r2_model1:.4f}\")\n",
        "print(f\"Model 2 - RSE: {rse_model2:.2f}, R^2: {r2_model2:.4f}\")\n"
      ]
    },
    {
      "cell_type": "markdown",
      "metadata": {
        "id": "Z6DNcCSd9sQG"
      },
      "source": [
        "# Question 6:\n",
        "Fit the simple linear regression model to the `Boston` dataset with `medv` as the response variable and `log(rm)` as the predictor variable. What is the coefficient estimate for the slope? (Round your answer to 1 decimal place.)\n",
        "\n",
        "\n",
        "\n",
        "Hint: MS function does not support log. Follow these steps\n",
        "\n",
        "\n",
        "1.   Copy the boston dataset: `myBoston = Boston.copy()`  If you only assign without copy, then both names point to the same location.\n",
        "2.   Take a log of the age variable: `myBoston.age = np.log(Boston.age)`\n",
        "3.   Use `myBoston` dataframe now. Please verify that `age` in `myBoston` dataframe is log of `age` in `Boston` dataframe\n",
        "\n"
      ]
    },
    {
      "cell_type": "code",
      "execution_count": null,
      "metadata": {
        "colab": {
          "base_uri": "https://localhost:8080/"
        },
        "id": "JVX4FSYR-D_E",
        "outputId": "914f6ca1-7132-4708-8562-b038f1cd3deb"
      },
      "outputs": [
        {
          "output_type": "stream",
          "name": "stdout",
          "text": [
            "<bound method NDFrame.head of         crim    zn  indus  chas    nox     rm   age     dis  rad  tax  \\\n",
            "0    0.00632  18.0   2.31     0  0.538  6.575  65.2  4.0900    1  296   \n",
            "1    0.02731   0.0   7.07     0  0.469  6.421  78.9  4.9671    2  242   \n",
            "2    0.02729   0.0   7.07     0  0.469  7.185  61.1  4.9671    2  242   \n",
            "3    0.03237   0.0   2.18     0  0.458  6.998  45.8  6.0622    3  222   \n",
            "4    0.06905   0.0   2.18     0  0.458  7.147  54.2  6.0622    3  222   \n",
            "..       ...   ...    ...   ...    ...    ...   ...     ...  ...  ...   \n",
            "501  0.06263   0.0  11.93     0  0.573  6.593  69.1  2.4786    1  273   \n",
            "502  0.04527   0.0  11.93     0  0.573  6.120  76.7  2.2875    1  273   \n",
            "503  0.06076   0.0  11.93     0  0.573  6.976  91.0  2.1675    1  273   \n",
            "504  0.10959   0.0  11.93     0  0.573  6.794  89.3  2.3889    1  273   \n",
            "505  0.04741   0.0  11.93     0  0.573  6.030  80.8  2.5050    1  273   \n",
            "\n",
            "     ptratio  lstat  medv  lstat_age  lstat_rm    log_rm  \n",
            "0       15.3   4.98  24.0    324.696  32.74350  1.883275  \n",
            "1       17.8   9.14  21.6    721.146  58.68794  1.859574  \n",
            "2       17.8   4.03  34.7    246.233  28.95555  1.971996  \n",
            "3       18.7   2.94  33.4    134.652  20.57412  1.945624  \n",
            "4       18.7   5.33  36.2    288.886  38.09351  1.966693  \n",
            "..       ...    ...   ...        ...       ...       ...  \n",
            "501     21.0   9.67  22.4    668.197  63.75431  1.886008  \n",
            "502     21.0   9.08  20.6    696.436  55.56960  1.811562  \n",
            "503     21.0   5.64  23.9    513.240  39.34464  1.942476  \n",
            "504     21.0   6.48  22.0    578.664  44.02512  1.916040  \n",
            "505     21.0   7.88  11.9    636.704  47.51640  1.796747  \n",
            "\n",
            "[506 rows x 16 columns]>\n",
            "                            OLS Regression Results                            \n",
            "==============================================================================\n",
            "Dep. Variable:                   medv   R-squared:                       0.436\n",
            "Model:                            OLS   Adj. R-squared:                  0.435\n",
            "Method:                 Least Squares   F-statistic:                     389.3\n",
            "Date:                Fri, 26 Sep 2025   Prob (F-statistic):           1.22e-64\n",
            "Time:                        20:12:11   Log-Likelihood:                -1695.4\n",
            "No. Observations:                 506   AIC:                             3395.\n",
            "Df Residuals:                     504   BIC:                             3403.\n",
            "Df Model:                           1                                         \n",
            "Covariance Type:            nonrobust                                         \n",
            "==============================================================================\n",
            "                 coef    std err          t      P>|t|      [0.025      0.975]\n",
            "------------------------------------------------------------------------------\n",
            "const        -76.4878      5.028    -15.213      0.000     -86.366     -66.610\n",
            "log_rm        54.0546      2.739     19.732      0.000      48.672      59.437\n",
            "==============================================================================\n",
            "Omnibus:                      117.102   Durbin-Watson:                   0.681\n",
            "Prob(Omnibus):                  0.000   Jarque-Bera (JB):              584.336\n",
            "Skew:                           0.916   Prob(JB):                    1.30e-127\n",
            "Kurtosis:                       7.936   Cond. No.                         38.9\n",
            "==============================================================================\n",
            "\n",
            "Notes:\n",
            "[1] Standard Errors assume that the covariance matrix of the errors is correctly specified.\n",
            "The coefficient estimate for the slope is: 54.1\n"
          ]
        }
      ],
      "source": [
        "# Step 1: Copy the Boston dataset\n",
        "myBoston = Boston.copy()\n",
        "\n",
        "# Step 2: Take the log of the rm variable\n",
        "myBoston['log_rm'] = np.log(myBoston['rm'])\n",
        "print(myBoston.head)\n",
        "\n",
        "# Step 3: Fit the simple linear regression model\n",
        "X = myBoston[['log_rm']]    # Predictor is log(rm)\n",
        "y = myBoston['medv']        # Response variable\n",
        "\n",
        "# Add a constant (intercept term)\n",
        "X = sm.add_constant(X)\n",
        "\n",
        "# Fit the model\n",
        "model = sm.OLS(y, X).fit()\n",
        "\n",
        "# Step 4: Print the summary to get the slope\n",
        "print(model.summary())\n",
        "\n",
        "# Extract the slope (coefficient for log_rm)\n",
        "slope = round(model.params['log_rm'], 1)\n",
        "\n",
        "# Print the slope\n",
        "print(f\"The coefficient estimate for the slope is: {slope}\")"
      ]
    },
    {
      "cell_type": "code",
      "execution_count": null,
      "metadata": {
        "id": "wQP3MGoYTzKr"
      },
      "outputs": [],
      "source": []
    }
  ],
  "metadata": {
    "colab": {
      "provenance": [],
      "include_colab_link": true
    },
    "kernelspec": {
      "display_name": "base",
      "language": "python",
      "name": "python3"
    },
    "language_info": {
      "codemirror_mode": {
        "name": "ipython",
        "version": 3
      },
      "file_extension": ".py",
      "mimetype": "text/x-python",
      "name": "python",
      "nbconvert_exporter": "python",
      "pygments_lexer": "ipython3",
      "version": "3.10.14"
    }
  },
  "nbformat": 4,
  "nbformat_minor": 0
}